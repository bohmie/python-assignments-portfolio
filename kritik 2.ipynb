{
 "cells": [
  {
   "cell_type": "code",
   "execution_count": null,
   "id": "1b997c97-b584-4373-ac73-22adb207beed",
   "metadata": {},
   "outputs": [
    {
     "name": "stdout",
     "output_type": "stream",
     "text": [
      "0.2698741375\n",
      "0\n",
      "3.1415926536\n"
     ]
    }
   ],
   "source": [
    "#4\n",
    "import numpy as np\n",
    "\n",
    "# the triple quotation marks around each function are just comments, same with hashtags\n",
    "\n",
    "def function1(x):\n",
    "    e = np.exp(1)\n",
    "    return ((e ** x) + np.log(x))\n",
    "\n",
    "def function2(x):\n",
    "    return (np.arctan(x) - (x ** 2))\n",
    "\n",
    "def function3(x):\n",
    "    return ((np.sin(x))/(np.log(x)))\n",
    "\n",
    "def function4(x):\n",
    "    return (np.log(np.cos(x)))\n",
    "\n",
    "\n",
    "tolerance = 0.0000000001\n",
    "\n",
    "def get_roots(f, a, b):\n",
    "    if f(a)* f(b) == 0:\n",
    "        if f(a) == 0:\n",
    "            c = a\n",
    "        elif f(b) == 0:\n",
    "            c = b\n",
    "        elif f(a) * f(b) > 0:\n",
    "            print(\"the root does not exist on the interval.\")\n",
    "            return None\n",
    "    else:\n",
    "        while (b - a) > tolerance: # solving for the root up to 10 decimal places\n",
    "            c = float((a + b) / 2) # finding midpoint of the interval (bisection method)\n",
    "            \n",
    "            if f(c) * f(a) < 0: #checking if there is a sign change in the lower interval\n",
    "                b = c # sign change does exist in lower interval -> root is in lower interval\n",
    "                \n",
    "            elif f(b) * f(c) < 0:\n",
    "                a = c #sign change doesnt exist in lower interval, root is in upper interval\n",
    "    \n",
    "    return round(c, 10)\n",
    "\n",
    "print(get_roots(function1, 0.1, 1))\n",
    "print(get_roots(function2, 0, 2))\n",
    "print(get_roots(function3, 3, 4))\n",
    "print(get_roots(function4, 5, 7))"
   ]
  },
  {
   "cell_type": "code",
   "execution_count": null,
   "id": "081e5ab8-cb62-4366-ae6a-c6c61bfdacac",
   "metadata": {
    "editable": true,
    "slideshow": {
     "slide_type": ""
    },
    "tags": []
   },
   "outputs": [],
   "source": [
    "#Q3\n",
    "import numpy as np\n",
    "  def funny(x):\n",
    "     if x<=-1:\n",
    "     return 0\n",
    " elif x>=1:\n",
    "     return 0\n",
    " else:\n",
    "     return np.exp(1-(1/(1-x**(10**250))))"
   ]
  },
  {
   "cell_type": "code",
   "execution_count": null,
   "id": "2c26fcc7-a7cb-43d2-9acb-15fa62e92a75",
   "metadata": {},
   "outputs": [],
   "source": []
  }
 ],
 "metadata": {
  "kernelspec": {
   "display_name": "Python 3 (ipykernel)",
   "language": "python",
   "name": "python3"
  },
  "language_info": {
   "codemirror_mode": {
    "name": "ipython",
    "version": 3
   },
   "file_extension": ".py",
   "mimetype": "text/x-python",
   "name": "python",
   "nbconvert_exporter": "python",
   "pygments_lexer": "ipython3",
   "version": "3.12.8"
  }
 },
 "nbformat": 4,
 "nbformat_minor": 5
}
