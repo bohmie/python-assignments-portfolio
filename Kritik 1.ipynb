{
 "cells": [
  {
   "cell_type": "code",
   "execution_count": 14,
   "id": "3f4931a5-dc04-4707-9dd5-1850d3cdbfb6",
   "metadata": {},
   "outputs": [
    {
     "name": "stdin",
     "output_type": "stream",
     "text": [
      "enter number a\n",
      " 62\n",
      "enter number b\n",
      " 34\n",
      "enter number smaller than b\n",
      " 16\n",
      "enter number larger than a\n",
      " 77\n"
     ]
    },
    {
     "ename": "NameError",
     "evalue": "name 'choice' is not defined",
     "output_type": "error",
     "traceback": [
      "\u001b[0;31m---------------------------------------------------------------------------\u001b[0m",
      "\u001b[0;31mNameError\u001b[0m                                 Traceback (most recent call last)",
      "Cell \u001b[0;32mIn[14], line 40\u001b[0m\n\u001b[1;32m     36\u001b[0m             \u001b[38;5;28;01mreturn\u001b[39;00m \u001b[38;5;124m\"\u001b[39m\u001b[38;5;124mno\u001b[39m\u001b[38;5;124m\"\u001b[39m\n\u001b[1;32m     37\u001b[0m         \u001b[38;5;28;01mreturn\u001b[39;00m  \u001b[38;5;124m\"\u001b[39m\u001b[38;5;124mwe can\u001b[39m\u001b[38;5;124m'\u001b[39m\u001b[38;5;124mt find root with bisection\u001b[39m\u001b[38;5;124m\"\u001b[39m\n\u001b[0;32m---> 40\u001b[0m \u001b[38;5;28;01mif\u001b[39;00m (\u001b[43mchoice\u001b[49m \u001b[38;5;241m==\u001b[39m \u001b[38;5;124m\"\u001b[39m\u001b[38;5;124mg1\u001b[39m\u001b[38;5;124m\"\u001b[39m \u001b[38;5;129;01mor\u001b[39;00m choice \u001b[38;5;241m==\u001b[39m \u001b[38;5;124m\"\u001b[39m\u001b[38;5;124m1\u001b[39m\u001b[38;5;124m\"\u001b[39m):\n\u001b[1;32m     41\u001b[0m     \u001b[38;5;28mprint\u001b[39m (roots (f1, a, b))\n\u001b[1;32m     42\u001b[0m \u001b[38;5;28;01melif\u001b[39;00m (choice \u001b[38;5;241m==\u001b[39m \u001b[38;5;124m\"\u001b[39m\u001b[38;5;124mg2\u001b[39m\u001b[38;5;124m\"\u001b[39m \u001b[38;5;129;01mor\u001b[39;00m choice \u001b[38;5;241m==\u001b[39m \u001b[38;5;124m\"\u001b[39m\u001b[38;5;124m2\u001b[39m\u001b[38;5;124m\"\u001b[39m):\n",
      "\u001b[0;31mNameError\u001b[0m: name 'choice' is not defined"
     ]
    }
   ],
   "source": [
    "import numpy as np\n",
    "a = int(input(\"enter number a\\n\"))\n",
    "b = int(input(\"enter number b\\n\"))\n",
    "\n",
    "while (a>b):\n",
    "    a = int(input(\"enter number smaller than b\\n\"))\n",
    "    b = int(input(\"enter number larger than a\\n\"))\n",
    "\n",
    "def g1(x):\n",
    "    return (np.exp(x)+np/log(x))\n",
    "\n",
    "def g2(x):\n",
    "    return (np.arctan(x)-(x**2))\n",
    "\n",
    "def g3(x):\n",
    "    return (np.sin(x)/np.log(x))\n",
    "\n",
    "def g4(x):\n",
    "    return np.log(np.cos(x))\n",
    "\n",
    "def root (f, a, b):\n",
    "    x = np.linspace(a, b, 3)\n",
    "    y = f(x)\n",
    "    if a ==0:\n",
    "        a = 0.0000000000000000000000000000001\n",
    "    if (f(a) <= 0 <= f((a+b)/2) or f(a) >= 0 >= f((a+b)/2) <= 0 <= f(b) or f((a+b)/2) >= 0 >= f(b)):\n",
    "\n",
    "        for i in range (len(y)):\n",
    "            if y[I] < 0.0000000000000000000000000000001 and y[I]> - 0.0000000000000000000000000000001:\n",
    "                return (\"5.10f\"%x[i])\n",
    "            if y[0] < 0 and y[1] >0 or y[0] > 0 and y[1] < 0:\n",
    "                return roots (f, a, (a+b)/2)\n",
    "            elif y[1] < 0 and y[2] > 0 or y[1] > 0 and y[2] < 0:\n",
    "                return roots (f, (a+b)/2, b)\n",
    "                \n",
    "            return \"no\"\n",
    "        return  \"we can't find root with bisection\"\n",
    "\n",
    "\n",
    "choice = input (\"g1, g2, f3, or f4 (as found in the kritik sheet)?\\n\"')\n",
    "                \n",
    "if (choice == \"g1\" or choice == \"1\"):\n",
    "    print (roots (f1, a, b))\n",
    "elif (choice == \"g2\" or choice == \"2\"):\n",
    "    print (roots (f2, a, b))\n",
    "elif (choice == \"g3\" or choice == \"3\"):\n",
    "    print (roots (f3, a, b))\n",
    "elif (choice == \"g4\" or choice == \"4\"):\n",
    "    print (roots (f4, a, b))\n",
    "else:\n",
    "    print (\"invalid input\")\n",
    "\n",
    "\n",
    "\n",
    "\n",
    "\n",
    "        "
   ]
  },
  {
   "cell_type": "code",
   "execution_count": null,
   "id": "9cf63a7e-717a-4649-a70c-10c907c56491",
   "metadata": {},
   "outputs": [],
   "source": []
  },
  {
   "cell_type": "code",
   "execution_count": null,
   "id": "632295af-cd10-422a-83c7-b318f4a0cf49",
   "metadata": {},
   "outputs": [],
   "source": []
  }
 ],
 "metadata": {
  "kernelspec": {
   "display_name": "Python 3 (ipykernel)",
   "language": "python",
   "name": "python3"
  },
  "language_info": {
   "codemirror_mode": {
    "name": "ipython",
    "version": 3
   },
   "file_extension": ".py",
   "mimetype": "text/x-python",
   "name": "python",
   "nbconvert_exporter": "python",
   "pygments_lexer": "ipython3",
   "version": "3.12.8"
  }
 },
 "nbformat": 4,
 "nbformat_minor": 5
}
