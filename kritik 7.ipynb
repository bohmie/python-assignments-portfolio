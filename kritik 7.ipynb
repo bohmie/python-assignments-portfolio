{
 "cells": [
  {
   "cell_type": "code",
   "execution_count": 10,
   "id": "8aa8269a-444f-4b5c-8767-80ac9f6becce",
   "metadata": {},
   "outputs": [
    {
     "name": "stdout",
     "output_type": "stream",
     "text": [
      "Mean =  82.382\n",
      "Standard Deviation = 5.195338666666668\n"
     ]
    }
   ],
   "source": [
    "#4i\n",
    "ramen = [92.64,79.00,84.79,97.41,93.68,65.23,84.50,73.49,73.97,79.11]\n",
    "total = 0\n",
    "#mean\n",
    "for num in ramen:\n",
    "    total += num\n",
    "mean = total/len(ramen)\n",
    "\n",
    "#standard deviation\n",
    "squared = 0\n",
    "for num in ramen:\n",
    "    squared += (num - mean)**2\n",
    "stdev = (squared/(len(ramen)-1))*0.05\n",
    "\n",
    "print(\"Mean = \", mean)\n",
    "print(\"Standard Deviation =\", stdev)"
   ]
  },
  {
   "cell_type": "code",
   "execution_count": 8,
   "id": "e15fcdb7-9b62-44da-98e9-9f0faf9f6794",
   "metadata": {},
   "outputs": [
    {
     "name": "stdout",
     "output_type": "stream",
     "text": [
      "t-value = 18.615005803610565\n"
     ]
    }
   ],
   "source": [
    "#4ii\n",
    "nationavg = 75\n",
    "t_value = (mean - nationavg)/(stdev/len(ramen)**0.5)\n",
    "print(\"t-value =\", t_value)"
   ]
  },
  {
   "cell_type": "code",
   "execution_count": 16,
   "id": "c4fdc051-3f90-49db-9d40-980489c7fc54",
   "metadata": {},
   "outputs": [
    {
     "name": "stdout",
     "output_type": "stream",
     "text": [
      "t* value = 2.2621571628540993\n"
     ]
    }
   ],
   "source": [
    "#4iii\n",
    "import numpy as np\n",
    "import scipy.stats as stats\n",
    "def find_t_star(prob, nu, x_start=0, x_end=20, num_points=10000):\n",
    "\n",
    "    # Define the x values\n",
    "    x = np.linspace(x_start, x_end, num_points)\n",
    "# Apply the density function to the x values\n",
    "    y = t_distribution_pdf(x, nu)\n",
    "# This next line is the integration (exercise: why does this work?)\n",
    "    cdf = np.cumsum(y) * (x[1] - x[0])\n",
    "# Find the t-value where the cumulative probability reaches half of the required probability\n",
    "    target_half_prob = prob / 2\n",
    "    index = np.where(cdf >= target_half_prob)[0][0]\n",
    "    return x[index]\n",
    "\n",
    "df = len(ramen) - 1\n",
    "t_star = stats.t.ppf(0.975, df) \n",
    "print(\"t* value =\", t_star)"
   ]
  },
  {
   "cell_type": "code",
   "execution_count": 17,
   "id": "12bbca68-0693-4337-9ccf-8dcd86d565c1",
   "metadata": {},
   "outputs": [
    {
     "name": "stdout",
     "output_type": "stream",
     "text": [
      "Strong evidence that µ ≠ 75.\n",
      "The new teaching technique = good (higher scores).\n"
     ]
    }
   ],
   "source": [
    "#4iiii\n",
    "def in_range(t0, t_star):\n",
    "    \"\"\"Returns True if t0 is within [-t*, t*], otherwise False.\"\"\"\n",
    "    return abs(t0) <= t_star\n",
    "\n",
    "# Check if t0 is within the range\n",
    "result = in_range(t_value, t_star)\n",
    "\n",
    "# Print conclusion\n",
    "if result:\n",
    "    print(\"No strong evidence that µ ≠ 75.\")\n",
    "else:\n",
    "    print(\"Strong evidence that µ ≠ 75.\")\n",
    "\n",
    "if t_value > 0:\n",
    "    print(\"The new teaching technique = good (higher scores).\")\n",
    "elif t_value < 0:\n",
    "    print(\"The new teaching technique = bad (lower scores).\")\n",
    "else:\n",
    "    print(\"No impact\")"
   ]
  },
  {
   "cell_type": "code",
   "execution_count": null,
   "id": "84fc3c05-f67e-4ff0-9864-5f35457206bb",
   "metadata": {},
   "outputs": [],
   "source": []
  }
 ],
 "metadata": {
  "kernelspec": {
   "display_name": "Python 3 (ipykernel)",
   "language": "python",
   "name": "python3"
  },
  "language_info": {
   "codemirror_mode": {
    "name": "ipython",
    "version": 3
   },
   "file_extension": ".py",
   "mimetype": "text/x-python",
   "name": "python",
   "nbconvert_exporter": "python",
   "pygments_lexer": "ipython3",
   "version": "3.12.8"
  }
 },
 "nbformat": 4,
 "nbformat_minor": 5
}
