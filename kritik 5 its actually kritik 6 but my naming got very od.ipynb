{
 "cells": [
  {
   "cell_type": "code",
   "execution_count": 14,
   "id": "6d328277-02c6-4a77-a599-bfd4db4ea7c2",
   "metadata": {},
   "outputs": [
    {
     "name": "stdout",
     "output_type": "stream",
     "text": [
      "Probability =\n"
     ]
    },
    {
     "data": {
      "text/plain": [
       "(None, 0.8937398021438359)"
      ]
     },
     "execution_count": 14,
     "metadata": {},
     "output_type": "execute_result"
    }
   ],
   "source": [
    "#QUESTION 3: global height\n",
    "import numpy as np\n",
    "import matplotlib.pyplot as plt\n",
    "\n",
    "def normal_density (mean, variance, x): # varianve is the standard deviation squared \n",
    "    tofu = ((1/np.sqrt(2*np.pi*variance)*np.e**(-1*((x-mean)**2)/(2*variance)))) # i was very hungry when i was doing this and i had 4 blocks of tofu in my fridge that i straight up ate with just chili oil\n",
    "    return tofu\n",
    "\n",
    "def integration(mean, variance, a, b): #riemann sum !!\n",
    "    n = 5000\n",
    "    x = np.linspace(a, b, n+1)\n",
    "    midsum = 0 #midpoint\n",
    "    for i in x[1: n+1]:\n",
    "        midsum += normal_density(mean, variance, i)\n",
    "    integration_midsum = (midsum) * (b-a)/n\n",
    "    return integration_midsum\n",
    "\n",
    "print (\"Probability =\"), integration (171, 7.1**2, 162, 190)"
   ]
  },
  {
   "cell_type": "code",
   "execution_count": 15,
   "id": "a0389e30-2206-4a94-a040-be4ebbe8e72e",
   "metadata": {},
   "outputs": [
    {
     "name": "stdout",
     "output_type": "stream",
     "text": [
      "dose =  69593.57999999999\n"
     ]
    }
   ],
   "source": [
    "#QUESTION 4c\n",
    "def chili_oil (mean, variance, a, b):\n",
    "    n = 40000\n",
    "    x = np.linspace(a, b, n+1)\n",
    "    mode_height = 171\n",
    "\n",
    "    dose_of_drug = mode_height *2.38 * mode_height\n",
    "    return dose_of_drug\n",
    "\n",
    "print(\"dose = \", chili_oil(171, 7.1**2, 0, 300))\n"
   ]
  },
  {
   "cell_type": "code",
   "execution_count": null,
   "id": "b9d96978-7837-47d9-a2ef-d9bec1653ea4",
   "metadata": {},
   "outputs": [],
   "source": []
  }
 ],
 "metadata": {
  "kernelspec": {
   "display_name": "Python 3 (ipykernel)",
   "language": "python",
   "name": "python3"
  },
  "language_info": {
   "codemirror_mode": {
    "name": "ipython",
    "version": 3
   },
   "file_extension": ".py",
   "mimetype": "text/x-python",
   "name": "python",
   "nbconvert_exporter": "python",
   "pygments_lexer": "ipython3",
   "version": "3.12.8"
  }
 },
 "nbformat": 4,
 "nbformat_minor": 5
}
