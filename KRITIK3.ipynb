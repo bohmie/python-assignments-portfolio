{
 "cells": [
  {
   "cell_type": "code",
   "execution_count": 14,
   "id": "51a47947-7ed8-43ff-8abd-9ca4113963f0",
   "metadata": {},
   "outputs": [
    {
     "name": "stdout",
     "output_type": "stream",
     "text": [
      "x1: 1.3162277470840815\n",
      "x2: 0.6837722463120927\n"
     ]
    }
   ],
   "source": [
    "#testcase 1\n",
    "import numpy as np\n",
    "\n",
    "def central_difference_derivative(f, c, delta_x=10**-8):\n",
    "   #Approximate derivative of f at c using central difference\n",
    "    return (f(c + delta_x) - f(c - delta_x)) / (2 * delta_x)\n",
    "\n",
    "def L(f_of_c, f_prime_c, x, c):\n",
    "    #Linear approximation of f(x) at x using f(c) and f'(c)\n",
    "    return f_of_c + f_prime_c * (x - c)\n",
    "\n",
    "def find_x(f, c, E, x, decrease_x, run_max=1000):\n",
    "    #Find x where the error between f(x) and L(x) equals E.\n",
    "    f_of_c = f(c)\n",
    "    f_prime_c = central_difference_derivative(f, c)\n",
    "    \n",
    "    if f_prime_c == 0:\n",
    "        raise ValueError(\"Derivative = zero; cannot perform linear approximation.\")\n",
    "    \n",
    "    for _ in range(run_max):\n",
    "        lin = L(f_of_c, f_prime_c, x, c)\n",
    "        error = abs(f(x) - lin)\n",
    "        if abs(error - E) < 1e-8:\n",
    "            return x\n",
    "        adjustment = (error - E) / f_prime_c\n",
    "        x = x - adjustment if decrease_x else x + adjustment\n",
    "    \n",
    "    raise RuntimeError(\"Failed.\")\n",
    "\n",
    "def pring(f, c, E):\n",
    "    #Find x1 < c and x2 > c where |f(x) - L(x)| = E\n",
    "    x1 = find_x(f, c, E, c - 0.1, decrease_x=True)\n",
    "    x2 = find_x(f, c, E, c + 0.1, decrease_x=False)\n",
    "    return x1, x2\n",
    "\n",
    "# Sample function f(x) 1\n",
    "def f(x):\n",
    "    return x**2\n",
    "\n",
    "# Parameters\n",
    "c = 1\n",
    "E = 0.1\n",
    "\n",
    "x1, x2 = pring(f, c, E)\n",
    "print(\"x1:\", x1)\n",
    "print(\"x2:\", x2)\n",
    "\n"
   ]
  },
  {
   "cell_type": "code",
   "execution_count": 13,
   "id": "4e6928d4-0aa1-48b6-9ea0-bb342498c3e1",
   "metadata": {},
   "outputs": [
    {
     "name": "stdout",
     "output_type": "stream",
     "text": [
      "x1: 1.1427011907178808\n",
      "x2: 0.37786679797552314\n"
     ]
    }
   ],
   "source": [
    "#testcase 2\n",
    "import numpy as np\n",
    "\n",
    "def central_difference_derivative(f, c, delta_x=10**-8):\n",
    "   #Approximate derivative of f at c using central difference\n",
    "    return (f(c + delta_x) - f(c - delta_x)) / (2 * delta_x)\n",
    "\n",
    "def L(f_of_c, f_prime_c, x, c):\n",
    "    #Linear approximation of f(x) at x using f(c) and f'(c)\n",
    "    return f_of_c + f_prime_c * (x - c)\n",
    "\n",
    "def find_x(f, c, E, x, decrease_x, run_max=1000):\n",
    "    #Find x where the error between f(x) and L(x) equals E.\n",
    "    f_of_c = f(c)\n",
    "    f_prime_c = central_difference_derivative(f, c)\n",
    "    \n",
    "    if f_prime_c == 0:\n",
    "        raise ValueError(\"Derivative = zero; cannot perform linear approximation.\")\n",
    "    \n",
    "    for _ in range(run_max):\n",
    "        lin = L(f_of_c, f_prime_c, x, c)\n",
    "        error = abs(f(x) - lin)\n",
    "        if abs(error - E) < 1e-8:\n",
    "            return x\n",
    "        adjustment = (error - E) / f_prime_c\n",
    "        x = x - adjustment if decrease_x else x + adjustment\n",
    "    \n",
    "    raise RuntimeError(\"Failed.\")\n",
    "\n",
    "def pring(f, c, E):\n",
    "    #Find x1 < c and x2 > c where |f(x) - L(x)| = E\n",
    "    x1 = find_x(f, c, E, c - 0.1, decrease_x=True)\n",
    "    x2 = find_x(f, c, E, c + 0.1, decrease_x=False)\n",
    "    return x1, x2\n",
    "\n",
    "\n",
    "# Sample function f(x) 2\n",
    "def f(x):\n",
    "    return np.sin (x)\n",
    "\n",
    "# Parameters\n",
    "c = np.pi/4\n",
    "E = 0.05\n",
    "\n",
    "x1, x2 = pring(f, c, E)\n",
    "print(\"x1:\", x1)\n",
    "print(\"x2:\", x2)\n"
   ]
  },
  {
   "cell_type": "code",
   "execution_count": 10,
   "id": "cf0f84cb-9470-436a-9580-580f262d7fd5",
   "metadata": {},
   "outputs": [
    {
     "name": "stdout",
     "output_type": "stream",
     "text": [
      "x1: 0.13816505269584523\n",
      "x2: -0.14483469209924077\n"
     ]
    }
   ],
   "source": [
    "#testcase 3\n",
    "import numpy as np\n",
    "\n",
    "def central_difference_derivative(f, c, delta_x=10**-8):\n",
    "   #Approximate derivative of f at c using central difference\n",
    "    return (f(c + delta_x) - f(c - delta_x)) / (2 * delta_x)\n",
    "\n",
    "def L(f_of_c, f_prime_c, x, c):\n",
    "    #Linear approximation of f(x) at x using f(c) and f'(c)\n",
    "    return f_of_c + f_prime_c * (x - c)\n",
    "\n",
    "def find_x(f, c, E, x, decrease_x, run_max=1000):\n",
    "    #Find x where the error between f(x) and L(x) equals E.\n",
    "    f_of_c = f(c)\n",
    "    f_prime_c = central_difference_derivative(f, c)\n",
    "    \n",
    "    if f_prime_c == 0:\n",
    "        raise ValueError(\"Derivative = zero; cannot perform linear approximation.\")\n",
    "    \n",
    "    for _ in range(run_max):\n",
    "        lin = L(f_of_c, f_prime_c, x, c)\n",
    "        error = abs(f(x) - lin)\n",
    "        if abs(error - E) < 1e-8:\n",
    "            return x\n",
    "        adjustment = (error - E) / f_prime_c\n",
    "        x = x - adjustment if decrease_x else x + adjustment\n",
    "    \n",
    "    raise RuntimeError(\"Failed.\")\n",
    "\n",
    "def pring(f, c, E):\n",
    "    #Find x1 < c and x2 > c where |f(x) - L(x)| = E\n",
    "    x1 = find_x(f, c, E, c - 0.1, decrease_x=True)\n",
    "    x2 = find_x(f, c, E, c + 0.1, decrease_x=False)\n",
    "    return x1, x2\n",
    "\n",
    "# Sample function f(x) 3\n",
    "def f(x):\n",
    "    return np.exp (x)\n",
    "\n",
    "# Parameters\n",
    "c = 0\n",
    "E = 0.01\n",
    "\n",
    "x1, x2 = pring(f, c, E)\n",
    "print(\"x1:\", x1)\n",
    "print(\"x2:\", x2)\n"
   ]
  },
  {
   "cell_type": "code",
   "execution_count": null,
   "id": "835b351f-fb05-4de9-a005-df416c4c9f26",
   "metadata": {},
   "outputs": [],
   "source": []
  },
  {
   "cell_type": "code",
   "execution_count": null,
   "id": "48252162-263d-4a02-b6d6-257e82a1e0bb",
   "metadata": {},
   "outputs": [],
   "source": []
  }
 ],
 "metadata": {
  "kernelspec": {
   "display_name": "Python 3 (ipykernel)",
   "language": "python",
   "name": "python3"
  },
  "language_info": {
   "codemirror_mode": {
    "name": "ipython",
    "version": 3
   },
   "file_extension": ".py",
   "mimetype": "text/x-python",
   "name": "python",
   "nbconvert_exporter": "python",
   "pygments_lexer": "ipython3",
   "version": "3.12.8"
  }
 },
 "nbformat": 4,
 "nbformat_minor": 5
}
